{
 "cells": [
  {
   "cell_type": "code",
   "execution_count": 1,
   "id": "507e2e65",
   "metadata": {},
   "outputs": [
    {
     "name": "stdout",
     "output_type": "stream",
     "text": [
      "Requirement already satisfied: beautifulsoup4 in c:\\users\\user\\anaconda3\\lib\\site-packages (4.11.1)\n",
      "Requirement already satisfied: soupsieve>1.2 in c:\\users\\user\\anaconda3\\lib\\site-packages (from beautifulsoup4) (2.3.1)\n"
     ]
    },
    {
     "name": "stderr",
     "output_type": "stream",
     "text": [
      "\n",
      "[notice] A new release of pip is available: 23.1.2 -> 23.2.1\n",
      "[notice] To update, run: python.exe -m pip install --upgrade pip\n"
     ]
    }
   ],
   "source": [
    "!pip install beautifulsoup4"
   ]
  },
  {
   "cell_type": "code",
   "execution_count": 18,
   "id": "fbaf3fb2",
   "metadata": {},
   "outputs": [],
   "source": [
    "from selenium import webdriver\n",
    "from selenium.webdriver.chrome.service import Service\n",
    "from bs4 import BeautifulSoup\n",
    "from selenium.webdriver import ActionChains\n",
    "from selenium.webdriver.common.keys import Keys\n",
    "import time\n",
    "from selenium.webdriver.common.by import By\n",
    "import pandas as pd\n",
    "import numpy as np\n",
    "import re"
   ]
  },
  {
   "cell_type": "markdown",
   "id": "44f6d9a2",
   "metadata": {},
   "source": [
    "# 크롬드라이버도 설치!!!!"
   ]
  },
  {
   "cell_type": "code",
   "execution_count": 19,
   "id": "8fc87460",
   "metadata": {},
   "outputs": [],
   "source": [
    "ser = Service('../chromedriver/chromedriver.exe')\n",
    "driver = webdriver.Chrome(service = ser)\n",
    "driver.set_window_size(1200, 850) \n",
    "\n",
    "url = 'https://www.instagram.com/'\n",
    "driver.get(url)\n",
    "time.sleep(3)"
   ]
  },
  {
   "cell_type": "code",
   "execution_count": 20,
   "id": "e1be09fa",
   "metadata": {},
   "outputs": [],
   "source": [
    "#### 02. 로그인\n",
    "#경로 지정\n",
    "id_box = driver.find_element(By.CSS_SELECTOR,\"#loginForm > div > div:nth-child(1) > div > label > input\")   #아이디 입력창\n",
    "password_box = driver.find_element(By.CSS_SELECTOR,\"#loginForm > div > div:nth-child(2) > div > label > input\")     #비밀번호 입력창\n",
    "login_button = driver.find_element(By.CSS_SELECTOR,'#loginForm > div > div:nth-child(3) > button')      #로그인 버튼\n",
    "\n",
    "#동작 제어\n",
    "act = ActionChains(driver)      #동작 명령어 지정\n",
    "act.send_keys_to_element(id_box, '아이디').send_keys_to_element(password_box, '비밀번호').click(login_button).perform()     #아이디 입력, 비밀 번호 입력, 로그인 버튼 클릭 수행\n",
    "time.sleep(2)"
   ]
  },
  {
   "cell_type": "markdown",
   "id": "e52e8324",
   "metadata": {},
   "source": [
    "# 로그인 자동으로하고 직접 페이지 들어가서 나중에하기 2번 눌러야해!!!!!!!! 다 누르고 아래꺼 실행하기!!!!!!!!!!!"
   ]
  },
  {
   "cell_type": "code",
   "execution_count": 4,
   "id": "1dd0d632",
   "metadata": {},
   "outputs": [],
   "source": [
    "def insta_searching(word):\n",
    "    url = 'https://www.instagram.com/{}/'.format(word)\n",
    "#     url = 'https://www.instagram.com/explore/tags/' + word # 이것도 가능\n",
    "    return(url)"
   ]
  },
  {
   "cell_type": "code",
   "execution_count": 21,
   "id": "fcafb283",
   "metadata": {},
   "outputs": [],
   "source": [
    "usernames = [\"im_jella_\",\"hamnihouse\",\"ssinnim\",\"yu__hyewon\",\"hyojinc_\",\"leojmakeup\",\"2__yun__2\",\"areumsongee\",\"makeup_maker_\",\"r_yuhyeju\",\"vivamoon\",\"risabae_art\",\"yujin_so\",    \"kisy0729\",    \"ponysmakeup\"]"
   ]
  },
  {
   "cell_type": "code",
   "execution_count": 23,
   "id": "56489874",
   "metadata": {},
   "outputs": [],
   "source": [
    "star_id = usernames[0]"
   ]
  },
  {
   "cell_type": "code",
   "execution_count": 24,
   "id": "f4dfe6ea",
   "metadata": {
    "scrolled": true
   },
   "outputs": [],
   "source": [
    "word = star_id\n",
    "url = insta_searching(word)\n",
    "driver.get(url)\n",
    "time.sleep(3) # 페이지가 진행되기전에 page_source를 가져오면 오류가 나와서 delay를 줌"
   ]
  },
  {
   "cell_type": "code",
   "execution_count": 25,
   "id": "54543de7",
   "metadata": {},
   "outputs": [],
   "source": [
    "from selenium.webdriver.common.by import By\n",
    "\n",
    "def select_first(driver):\n",
    "    # 웹페이지에 접속해서 첫번째 게시글 해당하는 tag 선택해줘\n",
    "    first = driver.find_element(By.CSS_SELECTOR, 'div._aagw')\n",
    "    first.click()\n",
    "    time.sleep(3)\n",
    "\n",
    "select_first(driver)"
   ]
  },
  {
   "cell_type": "code",
   "execution_count": 27,
   "id": "da325cd6",
   "metadata": {},
   "outputs": [],
   "source": [
    "def get_comment(driver,star_id):\n",
    "    star_id = star_id\n",
    "    html = driver.page_source\n",
    "    soup = bs4.BeautifulSoup(html, 'html.parser')\n",
    "    comment= []\n",
    "\n",
    "    for i in range(1,30):\n",
    "        try:\n",
    "            selected_elements = soup.select('div._a9zs')\n",
    "            content = selected_elements[i].text if selected_elements else ' '  # 리스트에서 첫 번째 요소를 가져옴\n",
    "            content = unicodedata.normalize('NFC', content)\n",
    "            comment.append(content)\n",
    "            time.sleep(1)\n",
    "        except:\n",
    "            content = ' '\n",
    "            selected_elements = soup.select('div._abm0')\n",
    "            \n",
    "    return comment"
   ]
  },
  {
   "cell_type": "code",
   "execution_count": 28,
   "id": "6eedc59b",
   "metadata": {},
   "outputs": [],
   "source": [
    "def move_next(driver): # 다음 게시글 조회\n",
    "    right = driver.find_element(By.CSS_SELECTOR,'._aaqg._aaqh')\n",
    "    right.click()\n",
    "    time.sleep(3)\n",
    "    \n",
    "# move_next(driver)"
   ]
  },
  {
   "cell_type": "code",
   "execution_count": null,
   "id": "612264dc",
   "metadata": {},
   "outputs": [
    {
     "name": "stdout",
     "output_type": "stream",
     "text": [
      "성공\n",
      "성공\n",
      "성공\n"
     ]
    }
   ],
   "source": [
    "comment_total=[]\n",
    "for i in range(100):\n",
    "    comment_total.append(get_comment(driver,star_id))\n",
    "    move_next(driver)\n",
    "    if i%10==0:\n",
    "        print(\"성공\")\n"
   ]
  },
  {
   "cell_type": "code",
   "execution_count": null,
   "id": "4406d77f",
   "metadata": {},
   "outputs": [],
   "source": [
    "flattened_list = [item for sublist in comment_total for item in sublist]"
   ]
  },
  {
   "cell_type": "code",
   "execution_count": null,
   "id": "63c1c717",
   "metadata": {},
   "outputs": [],
   "source": [
    "file_name=f\"{star_id}.csv\""
   ]
  },
  {
   "cell_type": "code",
   "execution_count": null,
   "id": "b9a9bf7b",
   "metadata": {},
   "outputs": [],
   "source": [
    "df = pd.DataFrame(flattened_list)\n",
    "df.to_csv(file_name, index=False)"
   ]
  },
  {
   "cell_type": "code",
   "execution_count": null,
   "id": "6cb7a689",
   "metadata": {},
   "outputs": [],
   "source": []
  }
 ],
 "metadata": {
  "kernelspec": {
   "display_name": "Python 3 (ipykernel)",
   "language": "python",
   "name": "python3"
  },
  "language_info": {
   "codemirror_mode": {
    "name": "ipython",
    "version": 3
   },
   "file_extension": ".py",
   "mimetype": "text/x-python",
   "name": "python",
   "nbconvert_exporter": "python",
   "pygments_lexer": "ipython3",
   "version": "3.9.12"
  }
 },
 "nbformat": 4,
 "nbformat_minor": 5
}
